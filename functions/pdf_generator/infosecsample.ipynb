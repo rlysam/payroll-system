{
 "cells": [
  {
   "cell_type": "code",
   "execution_count": 9,
   "metadata": {},
   "outputs": [],
   "source": [
    "#library to import the excel file\n",
    "import openpyxl\n",
    "#libraries to create the pdf file and add text to it\n",
    "from reportlab.pdfgen import canvas\n",
    "from reportlab.pdfbase import pdfmetrics\n",
    "from reportlab.pdfbase.pdfmetrics import stringWidth\n",
    "from reportlab.pdfbase.ttfonts import TTFont\n",
    "#libraries to merge pdf files\n",
    "import os\n",
    "from PyPDF2 import PdfFileReader, PdfFileMerger"
   ]
  },
  {
   "cell_type": "code",
   "execution_count": 10,
   "metadata": {},
   "outputs": [
    {
     "name": "stderr",
     "output_type": "stream",
     "text": [
      "/tmp/ipykernel_166664/1866773274.py:3: DeprecationWarning: Call to deprecated function get_sheet_by_name (Use wb[sheetname]).\n",
      "  sheet = wb.get_sheet_by_name('employees')\n"
     ]
    }
   ],
   "source": [
    "\n",
    "#import the sheet from the excel file\n",
    "wb = openpyxl.load_workbook('data/data_payslip.xlsx')\n",
    "sheet = wb.get_sheet_by_name('employees')\n"
   ]
  },
  {
   "cell_type": "code",
   "execution_count": 11,
   "metadata": {},
   "outputs": [],
   "source": [
    "#convert the font so it is compatible\n",
    "pdfmetrics.registerFont(TTFont('Ayar','ayar.ttf'))\n",
    "\n",
    "#Page information\n",
    "page_width = 2156\n",
    "page_height = 3050\n",
    "spread = 100\n",
    "start = 200\n",
    "start_2 = 700\n",
    "\n",
    "#Payslip variables\n",
    "company_name = 'Sample Company Name Inc.'\n",
    "month_year = 'January 2022'\n"
   ]
  },
  {
   "cell_type": "code",
   "execution_count": 12,
   "metadata": {},
   "outputs": [],
   "source": [
    "\n",
    "def create_payslip():\n",
    "    for i in range (2, 42):\n",
    "        #eading values from excel file\n",
    "        emp_id = sheet.cell(row = i, column = 1).value\n",
    "        emp_name = sheet.cell(row = i, column = 2).value\n",
    "        emp_last_name = sheet.cell(row = i, column = 3).value\n",
    "        gross_salary = sheet.cell(row = i, column = 4).value\n",
    "        pension_contr = sheet.cell(row = i, column = 5).value\n",
    "        health_ins = sheet.cell(row = i, column = 6).value\n",
    "        p_i_t = sheet.cell(row = i, column = 7).value\n",
    "        bonus_payment = sheet.cell(row = i, column = 8).value\n",
    "        deduction = sheet.cell(row = i, column = 9).value\n",
    "        net_salary = sheet.cell(row = i, column = 10).value\n",
    "\n",
    "        #Creating a pdf file and setting a naming convention\n",
    "        c = canvas.Canvas('data/'+str(emp_name)+'_'+str(emp_last_name)+'_'+ month_year + '.pdf' )\n",
    "        #Page settings (size/font)\n",
    "        c.setPageSize((page_width, page_height))\n",
    "        c.setFont('Ayar',80)\n",
    "        #Company name text\n",
    "        text_width = stringWidth(company_name, 'Ayar',80)\n",
    "        c.drawString((page_width-text_width)/2, 2900, company_name)\n",
    "        #Invoice month/year information\n",
    "        text = 'Salary calculation for period ' + month_year\n",
    "        text_width = stringWidth(text, 'Ayar',55)\n",
    "        c.setFont('Ayar',55)\n",
    "        c.drawString((page_width-text_width)/2, 2700, text)\n",
    "\n",
    "        y = 2500\n",
    "        #Drawing payslip related information\n",
    "        c.setFont('Ayar',45)\n",
    "        c.drawString(start, y, 'Employee\\'s id: ')\n",
    "        c.drawString(start_2, y, str(emp_id))\n",
    "        y -= spread\n",
    "\n",
    "        c.drawString(start, y, 'Employee\\'s name:')\n",
    "        c.drawString(start_2, y, str(emp_name) + ' ' + str(emp_last_name))\n",
    "        y -= spread\n",
    "\n",
    "        c.drawString(start, y, 'Gross salary:')\n",
    "        c.drawString(start_2, y, str(gross_salary))\n",
    "        y -= spread\n",
    "\n",
    "        c.drawString(start, y, 'Pension contribution:')\n",
    "        c.drawString(start_2, y, str(pension_contr))\n",
    "        y -= spread\n",
    "\n",
    "        c.drawString(start, y, 'Health insurance:')\n",
    "        c.drawString(start_2, y, str(health_ins))\n",
    "        y -= spread\n",
    "\n",
    "        c.drawString(start, y, 'Personal income tax:')\n",
    "        c.drawString(start_2, y, str(p_i_t))\n",
    "        y -= spread\n",
    "        \n",
    "        c.drawString(start, y, 'Bonus payment:')\n",
    "        c.drawString(start_2, y, str(bonus_payment))\n",
    "        y -= spread\n",
    "\n",
    "        c.drawString(start, y, 'Deduction:')\n",
    "        c.drawString(start_2, y, str(deduction))\n",
    "        y -= spread\n",
    "\n",
    "        c.drawString(start, y, 'Net salary:')\n",
    "        c.drawString(start_2, y, str(net_salary))\n",
    "        y -= spread * 3\n",
    "\n",
    "        c.drawString(start, y, 'Signature: ')\n",
    "        c.drawString(start_2, y,'____________')\n",
    "      \n",
    "        #Saving the pdf file\n",
    "        c.save()"
   ]
  },
  {
   "cell_type": "code",
   "execution_count": 13,
   "metadata": {},
   "outputs": [],
   "source": [
    "# basura ata to...\n",
    "def merge_pdfs():\n",
    "    files_dir = 'tutorial' #Select the directory where the pdf files are located\n",
    "    pdf_files = [f for f in os.listdir(files_dir) if f.endswith('.pdf')] #Get all files in the directory that end with '.pdf'\n",
    "    merger = PdfFileMerger() #Create an empty file\n",
    "    for filename in pdf_files:\n",
    "        merger.append(PdfFileReader(os.path.join(files_dir,filename),'rb')) #Add every pdf to the empty file\n",
    "    merger.write(os.path.join(files_dir,'merged_pdfs.pdf')) #Save the file"
   ]
  },
  {
   "cell_type": "code",
   "execution_count": 14,
   "metadata": {},
   "outputs": [],
   "source": [
    "# UNCOMMENT para ma test yung data sa PDF\n",
    "# create_payslip()\n",
    "\n",
    "# merge_pdfs()"
   ]
  }
 ],
 "metadata": {
  "interpreter": {
   "hash": "5d750826c462396a5c36ef28c5dfa10adfee7ad34d29388cdf3aa9886bea4cfa"
  },
  "kernelspec": {
   "display_name": "Python 3",
   "language": "python",
   "name": "python3"
  },
  "language_info": {
   "codemirror_mode": {
    "name": "ipython",
    "version": 3
   },
   "file_extension": ".py",
   "mimetype": "text/x-python",
   "name": "python",
   "nbconvert_exporter": "python",
   "pygments_lexer": "ipython3",
   "version": "3.9.7"
  }
 },
 "nbformat": 4,
 "nbformat_minor": 2
}
